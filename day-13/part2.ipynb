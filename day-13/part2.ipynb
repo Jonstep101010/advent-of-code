{
 "cells": [
  {
   "cell_type": "code",
   "execution_count": null,
   "metadata": {},
   "outputs": [
    {
     "name": "stdout",
     "output_type": "stream",
     "text": [
      "459236326669\n"
     ]
    }
   ],
   "source": [
    "total_cost = 0\n",
    "ax, ay = 26, 66\n",
    "bx, by = 67, 21\n",
    "px, py = 12748, 12176\n",
    "px += 10000000000000\n",
    "py += 10000000000000\n",
    "\n",
    "# determinant of prize and button b\n",
    "divisor_a = (px * by - bx * py)\n",
    "# determinant of coordinates a and b\n",
    "dividend_a = (ax * by - bx * ay)\n",
    "count_btn_a = divisor_a / dividend_a\n",
    "# rearrange to find count of button b\n",
    "# solve for count_btn_b:\n",
    "count_btn_b = (px - ax * count_btn_a) / bx\n",
    "# make sure we only have integers\n",
    "if count_btn_a % 1 == 0 and count_btn_b % 1 == 0:\n",
    "\ttotal_cost += int(3 * count_btn_a + count_btn_b)\n",
    "\n",
    "print(total_cost)"
   ]
  }
 ],
 "metadata": {
  "kernelspec": {
   "display_name": "Python 3",
   "language": "python",
   "name": "python3"
  },
  "language_info": {
   "codemirror_mode": {
    "name": "ipython",
    "version": 3
   },
   "file_extension": ".py",
   "mimetype": "text/x-python",
   "name": "python",
   "nbconvert_exporter": "python",
   "pygments_lexer": "ipython3",
   "version": "3.13.1"
  }
 },
 "nbformat": 4,
 "nbformat_minor": 2
}
