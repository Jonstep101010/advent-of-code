{
 "cells": [
  {
   "cell_type": "code",
   "execution_count": 5,
   "metadata": {},
   "outputs": [
    {
     "name": "stdout",
     "output_type": "stream",
     "text": [
      "1 0 1 1 0 0 0 0 0 0 0\n",
      "0 0 0 0 0 0 0 0 0 0 0\n",
      "0 0 0 0 0 0 0 0 0 0 0\n",
      "0 0 0 0 0 0 1 1 0 1 1\n",
      "1 0 1 0 0 0 0 0 0 0 0\n",
      "0 0 0 0 0 0 0 0 0 1 0\n",
      "0 0 0 0 0 0 0 1 0 0 0\n",
      "- -- - - - -- \n",
      "0 0 0 0 0 0 2 0 0 1 0\n",
      "0 0 0 0 0 0 0 0 0 0 0\n",
      "1 0 0 0 0 0 0 0 0 0 0\n",
      "0 1 1 0 0 0 0 0 0 0 0\n",
      "0 0 0 0 0 1 0 0 0 0 0\n",
      "0 0 0 1 2 0 0 0 0 0 0\n",
      "0 1 0 0 0 0 1 0 0 0 0\n",
      "- -- - - - -- \n"
     ]
    }
   ],
   "source": [
    "import re\n",
    "WIDTH = 11\n",
    "HEIGHT = 7\n",
    "\n",
    "def print_robots(robots, init=False):\n",
    "\tgrid = [[0] * WIDTH for _ in range(HEIGHT)]\n",
    "\tfor px, py, vx, vy in robots:\n",
    "\t\tif init:\n",
    "\t\t\tgrid[py][px] = 1\n",
    "\t\telse:\n",
    "\t\t\tgrid[py][px] += 1\n",
    "\tfor row in grid:\n",
    "\t\tprint(*row)\n",
    "\tprint(\"- -- - - - -- \")\n",
    "\n",
    "robots = []\n",
    "for line in open(\"test.txt\"):\n",
    "\trobots.append(tuple(map(int, re.findall(r\"-?\\d+\", line))))\n",
    "print_robots(robots, True)\n",
    "\n",
    "waiting_result = []\n",
    "for px, py, vx, vy in robots:\n",
    "\twaiting_result.append(((px + vx * 100) % WIDTH, (py + vy * 100) % HEIGHT, vx, vy))\n",
    "\n",
    "print_robots(waiting_result)\n",
    "\n"
   ]
  }
 ],
 "metadata": {
  "kernelspec": {
   "display_name": "Python 3",
   "language": "python",
   "name": "python3"
  },
  "language_info": {
   "codemirror_mode": {
    "name": "ipython",
    "version": 3
   },
   "file_extension": ".py",
   "mimetype": "text/x-python",
   "name": "python",
   "nbconvert_exporter": "python",
   "pygments_lexer": "ipython3",
   "version": "3.13.1"
  }
 },
 "nbformat": 4,
 "nbformat_minor": 2
}
